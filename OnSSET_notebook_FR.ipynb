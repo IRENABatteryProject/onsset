{
 "cells": [
  {
   "cell_type": "markdown",
   "metadata": {},
   "source": [
    "# Bienvenue à la OnSSET Notebook\n",
    "\n",
    "Cette interface est construite sur le outil [OnSSET](http://www.onsset.org/) développé par la division KTH d'Energy Systems pour fournir un moyen simple et rapide de générer des scénarios d'investissement en électrification."
   ]
  },
  {
   "cell_type": "markdown",
   "metadata": {},
   "source": [
    "#### Commencez par importer le code"
   ]
  },
  {
   "cell_type": "code",
   "execution_count": 35,
   "metadata": {
    "scrolled": false
   },
   "outputs": [
    {
     "name": "stderr",
     "output_type": "stream",
     "text": [
      "2020-06-25 13:22:07,930\t\tLoaded backend module://ipykernel.pylab.backend_inline version unknown.\n"
     ]
    }
   ],
   "source": [
    "from onsset import *\n",
    "import os\n",
    "from IPython.display import display, Markdown, HTML\n",
    "%matplotlib inline"
   ]
  },
  {
   "cell_type": "markdown",
   "metadata": {},
   "source": [
    "# 1. Sélection des données SIG\n",
    "\n",
    "Tout d'abord, exécutez la cellule ci-dessous pour parcourir le répertoire dans lequel se trouve votre fichier CSV d'entrée et sélectionnez le fichier d'entrée. "
   ]
  },
  {
   "cell_type": "code",
   "execution_count": 36,
   "metadata": {
    "scrolled": false
   },
   "outputs": [],
   "source": [
    "import tkinter as tk\n",
    "from tkinter import filedialog, messagebox\n",
    "from openpyxl import load_workbook\n",
    "root = tk.Tk()\n",
    "root.withdraw()\n",
    "root.attributes(\"-topmost\", True)\n",
    "messagebox.showinfo('OnSSET', 'Ouvrez le fichier dentrée avec les données SIG extraites')\n",
    "input_file = filedialog.askopenfilename()\n",
    "\n",
    "onsseter = SettlementProcessor(input_file)\n",
    "onsseter.df['IsUrban'] = 0\n",
    "onsseter.df['Conflict'] = 0\n",
    "onsseter.df['PerCapitaDemand'] = 0"
   ]
  },
  {
   "cell_type": "markdown",
   "metadata": {},
   "source": [
    "# 2. Période de modélisation et taux d'électrification cible\n",
    "\n",
    "Définissez ensuite la période de modélisation et le taux d'électrification à atteindre à la fin de l'analyse. Plus bas, vous définirez également une année et un objectif intermédiaires."
   ]
  },
  {
   "cell_type": "code",
   "execution_count": 37,
   "metadata": {
    "scrolled": false
   },
   "outputs": [],
   "source": [
    "start_year = 2018\n",
    "end_year = 2030\n",
    "\n",
    "electrification_rate_target = 1 # Par exemple. 1 pour un taux d'électrification de 100% ou 0,80 pour un taux d'électrification de 80% "
   ]
  },
  {
   "cell_type": "markdown",
   "metadata": {},
   "source": [
    "#### Niveau cible de demande d'électricité\n",
    "Ensuite, entrez le niveau cible (niveau d'accès à l'électricité) pour les ménages urbains et ruraux respectivement. Cela peut prendre une valeur comprise entre 1 (niveau d'accès à l'électricité le plus bas) et 5 (niveau d'accès à l'électricité le plus élevé) comme dans ESMAPs Multi-Tier Framework for Measuring Electricity Access (Trouvé <a href=\"https://www.esmap.org/node/55526\" target=\"_blank\">ici</a>). "
   ]
  },
  {
   "cell_type": "code",
   "execution_count": 38,
   "metadata": {
    "scrolled": false
   },
   "outputs": [],
   "source": [
    "urban_target_tier = 4\n",
    "rural_target_tier = 3"
   ]
  },
  {
   "cell_type": "markdown",
   "metadata": {},
   "source": [
    "#### Objectif de taux d'électrification intermédiaire\n",
    "Le modèle est configuré pour fonctionner en deux étapes. Saisissez l'année cible intermédiaire et le taux d'électrification cible pour cette année."
   ]
  },
  {
   "cell_type": "code",
   "execution_count": 39,
   "metadata": {
    "scrolled": false
   },
   "outputs": [],
   "source": [
    "intermediate_year = 2025\n",
    "intermediate_electrification_target = 0.75 # Par exemple. pour un taux d'électrification cible de 75%, entrez 0,75"
   ]
  },
  {
   "cell_type": "markdown",
   "metadata": {},
   "source": [
    "#### Spécifications de la réseau\n",
    "Cette partie peut être utilisée pour imposer des restrictions ou des extensions forcées du réseau. "
   ]
  },
  {
   "cell_type": "code",
   "execution_count": 40,
   "metadata": {
    "scrolled": false
   },
   "outputs": [],
   "source": [
    "# Distance tampon (km) du réseau de grille actuel pour une connexion automatique au réseau.\n",
    "auto_intensification = 2\n",
    "\n",
    "# Il s'agit du nombre maximal de nouveaux ménages pouvant être connectés au réseau en un an (en milliers) par pas de temps\n",
    "annual_new_grid_connections_limit = {intermediate_year: 146,\n",
    "                                     end_year: 999999999}\n",
    "\n",
    "# Il s'agit de la capacité de production maximale qui peut être ajoutée au réseau en un an (MW)\n",
    "annual_grid_cap_gen_limit = {intermediate_year: 287,\n",
    "                             end_year: 999999999}"
   ]
  },
  {
   "cell_type": "markdown",
   "metadata": {},
   "source": [
    "# 3. Entrez les données spécifiques au pays\n",
    "\n",
    "En plus des options ci-dessus, l'utilisateur peut personnaliser un grand nombre de variables décrivant l'environnement socio-économique-technologique du pays sélectionné.\n",
    "\n",
    "**Remarque!** La plupart des valeurs d'entrée doivent représenter des estimations pour la variable valable tout au long de la période de modélisation, c'est-à-dire **NE PAS** valeurs actuelles."
   ]
  },
  {
   "cell_type": "markdown",
   "metadata": {},
   "source": [
    "### a. Composantes démographiques et sociales"
   ]
  },
  {
   "cell_type": "code",
   "execution_count": 41,
   "metadata": {
    "scrolled": false
   },
   "outputs": [],
   "source": [
    "pop_start_year = 44271000       ### Écrivez la population dans l'année de base (par exemple 2018)\n",
    "end_year_pop = 63842360         ### Écrivez la population à la fin de l'année de l'analyse (par exemple 2030)\n",
    "\n",
    "urban_ratio_start_year = 0.24   ### Écrire le ratio de population urbaine dans l'année de base (par exemple 2018)\n",
    "urban_ratio_end_year = 0.31     ### Écrire le ratio de population urbaine à la fin de l'année (par exemple 2030)\n",
    "\n",
    "num_people_per_hh_urban = 4.0     ### Écrivez le nombre de personnes par ménage urbain prévu pour la fin de l'année (par exemple 2030)\n",
    "num_people_per_hh_rural = 3.4   ### Écrivez le nombre de personnes par ménage rural prévu pour la fin de l'année (par exemple 2030)\n",
    "\n",
    "elec_ratio_start_year = 0.22   ### Écrivez le taux d'électrification dans l'année de base (par exemple 2018)\n",
    "urban_elec_ratio = 0.577       ### Écrire le taux d'électrification urbaine dans l'année de base (par exemple 2018)\n",
    "rural_elec_ratio = 0.11         ### Écrire le taux d'électrification rurale dans l'année de base (par exemple 2018)"
   ]
  },
  {
   "cell_type": "markdown",
   "metadata": {},
   "source": [
    "### b. Spécifications et coûts technologiques\n",
    "\n",
    "La cellule ci-dessous contient toutes les informations utilisées pour calculer les coûts nivelés pour toutes les technologies, y compris le réseau. Ces valeurs par défaut doivent être mises à jour pour refléter les valeurs les plus précises du pays. Il existe actuellement 7 technologies potentielles à inclure dans le modèle:\n",
    "* Grille\n",
    "* Mini-réseau PV\n",
    "* Mini-réseau Eolienne\n",
    "* Mini-réseau hydraulique\n",
    "* Mini-réseau diesel\n",
    "* Systèmes autonomes PV\n",
    "* Systèmes autonomes diesel\n",
    "\n",
    "Premièrement, décidez d'inclure ou non les technologies diesel:"
   ]
  },
  {
   "cell_type": "code",
   "execution_count": 42,
   "metadata": {
    "scrolled": false
   },
   "outputs": [],
   "source": [
    "diesel_techs = 0                      ### 0 = diesel NON inclus, 1 = diesel inclus"
   ]
  },
  {
   "cell_type": "code",
   "execution_count": 43,
   "metadata": {
    "scrolled": false
   },
   "outputs": [],
   "source": [
    "grid_generation_cost = 0.012           ### Il s'agit du coût de production d'électricité du réseau (USD / kWh) comme prévu à la fin de l'année de l'analyse\n",
    "grid_power_plants_capital_cost = 2300 ### Le coût en USD / kW pour les améliorations de capacité des centrales électriques raccordées au réseau\n",
    "grid_losses = 0.082                     ### La fraction d'électricité perdue lors du transport et de la distribution (pourcentage) "
   ]
  },
  {
   "cell_type": "code",
   "execution_count": 44,
   "metadata": {
    "scrolled": false
   },
   "outputs": [],
   "source": [
    "diesel_price = 0.5                   ### Il s'agit du prix du diesel en USD / litre comme prévu à la fin de l'année de l'analyse."
   ]
  },
  {
   "cell_type": "code",
   "execution_count": 45,
   "metadata": {
    "scrolled": false
   },
   "outputs": [],
   "source": [
    "sa_diesel_capital_cost = 938          ### Coût d'investissement en diesel autonome (USD / kW) comme prévu dans les années de l'analyse\n",
    "mg_diesel_capital_cost = 721          ### Coût en capital du mini-réseau diesel (USD / kW) comme prévu dans les années de l'analyse\n",
    "mg_pv_capital_cost = 2950             ### Coût en capital PV du mini-réseau (USD / kW) comme prévu dans les années de l'analyse\n",
    "mg_wind_capital_cost = 3750           ### Coût en capital éolien du mini-réseau (USD / kW) comme prévu dans les années de l'analyse\n",
    "mg_hydro_capital_cost = 3000          ### Coût en capital hydroélectrique du mini-réseau (USD / kW) comme prévu dans les années de l'analyse"
   ]
  },
  {
   "cell_type": "code",
   "execution_count": 46,
   "metadata": {
    "scrolled": false
   },
   "outputs": [],
   "source": [
    "sa_pv_capital_cost_1 = 9620          ### Coût en capital PV autonome (USD / kW) pour les systèmes domestiques de moins de 20 W\n",
    "sa_pv_capital_cost_2 = 8780          ### Coût en capital PV autonome (USD / kW) pour les systèmes domestiques entre 21 et 50 W\n",
    "sa_pv_capital_cost_3 = 6380           ### Coût en capital PV autonome (USD / kW) pour les systèmes domestiques de 51 à 100 W\n",
    "sa_pv_capital_cost_4 = 4470           ### Coût en capital PV autonome (USD / kW) pour les systèmes domestiques de 101 à 1 000 W\n",
    "sa_pv_capital_cost_5 = 6950           ### Coût en capital PV autonome (USD / kW) pour les systèmes domestiques de plus de 1 kW"
   ]
  },
  {
   "cell_type": "markdown",
   "metadata": {},
   "source": [
    "Les cellules ci-dessous contiennent des spécifications technologiques supplémentaires"
   ]
  },
  {
   "cell_type": "code",
   "execution_count": 47,
   "metadata": {
    "scrolled": false
   },
   "outputs": [],
   "source": [
    "base_to_peak = 0.8                    ### Le rapport entre la demande moyenne du réseau et la demande de pointe (fraction) \n",
    "existing_grid_cost_ratio = 0.1        ### Le coût supplémentaire par cycle d'électrification (fraction)\n",
    "discount_rate = 0.08 # Par exemple. 0,08 signifie un taux d'actualisation de 8%\n",
    "\n",
    "# Coûts de transport et de distribution\n",
    "hv_line_capacity=69 # kV\n",
    "hv_line_cost=53000 # USD/km\n",
    "mv_line_cost = 7000 # USD/kW\n",
    "mv_line_capacity=50 # kV\n",
    "mv_line_max_length=50 # km\n",
    "mv_increase_rate=0.1\n",
    "max_mv_line_dist = 50 # km\n",
    "MV_line_amperage_limit = 8  # Ampere (A)\n",
    "lv_line_capacity=0.24 #kV\n",
    "lv_line_max_length=0.8 # km\n",
    "lv_line_cost=4250 # USD/km\n",
    "service_Transf_type=50  # kVa\n",
    "service_Transf_cost=4250  # $/unit\n",
    "max_nodes_per_serv_trans=300  # nombre maximal de nœuds desservis par chaque transformateur de service\n",
    "hv_lv_transformer_cost=25000 # USD/unit\n",
    "hv_mv_transformer_cost=25000 # USD/unit\n",
    "mv_lv_transformer_cost=10000 # USD/unit\n",
    "mv_mv_transformer_cost=10000 # USD/unit\n",
    "\n",
    "\n",
    "# Centralized grid costs\n",
    "grid_calc = Technology(om_of_td_lines=0.1,\n",
    "                        distribution_losses=grid_losses,\n",
    "                        connection_cost_per_hh=150,\n",
    "                        base_to_peak_load_ratio=base_to_peak,\n",
    "                        capacity_factor=1,\n",
    "                        tech_life=30,\n",
    "                        grid_capacity_investment=grid_power_plants_capital_cost,\n",
    "                        grid_price=grid_generation_cost)\n",
    "\n",
    "# Mini-grid hydro costs\n",
    "mg_hydro_calc = Technology(om_of_td_lines=0.03,\n",
    "                            distribution_losses=0.05,\n",
    "                            connection_cost_per_hh=100,\n",
    "                            base_to_peak_load_ratio=0.85,\n",
    "                            capacity_factor=0.5,\n",
    "                            tech_life=30,\n",
    "                            capital_cost={float(\"inf\"): mg_hydro_capital_cost},\n",
    "                            om_costs=0.02,\n",
    "                            )\n",
    "\n",
    "# Mini-grid wind costs\n",
    "mg_wind_calc = Technology(om_of_td_lines=0.03,\n",
    "                            distribution_losses=0.05,\n",
    "                            connection_cost_per_hh=100,\n",
    "                            base_to_peak_load_ratio=0.85,\n",
    "                            capital_cost={float(\"inf\"): mg_wind_capital_cost},\n",
    "                            om_costs=0.02,\n",
    "                            tech_life=20,\n",
    "                            )\n",
    "\n",
    "# Mini-grid PV costs\n",
    "mg_pv_calc = Technology(om_of_td_lines=0.03,\n",
    "                        distribution_losses=0.05,\n",
    "                        connection_cost_per_hh=100,\n",
    "                        base_to_peak_load_ratio=0.85,\n",
    "                        tech_life=20,\n",
    "                        om_costs=0.02,\n",
    "                        capital_cost={float(\"inf\"): mg_pv_capital_cost}                        \n",
    "                        )\n",
    "\n",
    "# Stand-alone PV costs\n",
    "sa_pv_calc = Technology(base_to_peak_load_ratio=0.9,\n",
    "                        tech_life=15,\n",
    "                        om_costs=0.02,\n",
    "                        capital_cost={float(\"inf\"): sa_pv_capital_cost_5,\n",
    "                                      1: sa_pv_capital_cost_4,\n",
    "                                      0.100: sa_pv_capital_cost_3,\n",
    "                                      0.050: sa_pv_capital_cost_2,\n",
    "                                      0.020: sa_pv_capital_cost_1},\n",
    "                        standalone=True\n",
    "                        )\n",
    "\n",
    "# Mini-grid diesel costs\n",
    "mg_diesel_calc = Technology(om_of_td_lines=0.02,\n",
    "                            distribution_losses=0.05,\n",
    "                            connection_cost_per_hh=100,\n",
    "                            base_to_peak_load_ratio=0.85,\n",
    "                            capacity_factor=0.7,\n",
    "                            tech_life=15,\n",
    "                            om_costs=0.1,\n",
    "                            capital_cost={float(\"inf\"): mg_diesel_capital_cost},\n",
    "                            mini_grid=True)\n",
    "\n",
    "\n",
    "\n",
    "# Stand-alone diesel costs\n",
    "sa_diesel_calc = Technology(base_to_peak_load_ratio=0.9,\n",
    "                            capacity_factor=0.5,\n",
    "                            tech_life=10,\n",
    "                            om_costs=0.1,\n",
    "                            capital_cost={float(\"inf\"): sa_diesel_capital_cost},\n",
    "                            standalone=True)\n",
    "\n",
    "Technology.set_default_values(base_year=start_year, start_year=start_year, end_year=end_year, discount_rate=discount_rate,\n",
    "                             hv_line_type=hv_line_capacity, hv_line_cost=hv_line_cost, mv_line_type=mv_line_capacity,\n",
    "                             mv_line_amperage_limit=MV_line_amperage_limit, mv_line_cost=mv_line_cost, lv_line_type=lv_line_capacity,\n",
    "                             lv_line_cost=lv_line_cost, lv_line_max_length=lv_line_max_length, \n",
    "                             service_transf_type=service_Transf_type, service_transf_cost = service_Transf_cost,\n",
    "                             max_nodes_per_serv_trans=max_nodes_per_serv_trans, mv_lv_sub_station_cost=mv_lv_transformer_cost,\n",
    "                             mv_mv_sub_station_cost=mv_mv_transformer_cost, hv_lv_sub_station_cost=hv_lv_transformer_cost,\n",
    "                             hv_mv_sub_station_cost=hv_mv_transformer_cost)"
   ]
  },
  {
   "cell_type": "markdown",
   "metadata": {},
   "source": [
    "# 4. Importation et traitement de données SIG\n",
    "\n",
    "OnSSET est un outil basé sur le SIG et son bon fonctionnement dépend fortement de la préparation et de l'étalonnage diligents des données géospatiales nécessaires. La cellule suivante lit le fichier CSV contenant les données SIG extraites pour le pays choisi dans la section précédente et affiche un instantané de certaines des données."
   ]
  },
  {
   "cell_type": "code",
   "execution_count": 49,
   "metadata": {
    "scrolled": false
   },
   "outputs": [
    {
     "name": "stderr",
     "output_type": "stream",
     "text": [
      "2020-06-25 13:26:51,900\t\tEnsure that columns that are supposed to be numeric are numeric\n",
      "2020-06-25 13:26:51,918\t\tReplace null values with zero\n",
      "2020-06-25 13:26:51,942\t\tSort by country, Y and X\n",
      "2020-06-25 13:26:52,005\t\tClassify road dist\n",
      "2020-06-25 13:26:52,011\t\tClassify substation dist\n",
      "2020-06-25 13:26:52,016\t\tClassify elevation\n",
      "2020-06-25 13:26:52,024\t\tClassify slope\n",
      "2020-06-25 13:26:52,031\t\tClassify land cover\n",
      "2020-06-25 13:26:52,075\t\tCombined classification\n",
      "2020-06-25 13:26:52,081\t\tGrid penalty\n",
      "2020-06-25 13:26:52,086\t\tCalculate Wind CF\n",
      "2020-06-25 13:26:54,262\t\tPopulation calibration process\n",
      "2020-06-25 13:26:55,519\t\tUrban/rural calibration process\n"
     ]
    },
    {
     "name": "stdout",
     "output_type": "stream",
     "text": [
      "The calibrated population differs by 0.00. In case this is not acceptable please revise this part of the code\n"
     ]
    },
    {
     "name": "stderr",
     "output_type": "stream",
     "text": [
      "2020-06-25 13:26:55,986\t\tPopulation projection process\n"
     ]
    },
    {
     "data": {
      "text/markdown": [
       "#### Le fichier csv a été importé correctement. Voici un aperçu:"
      ],
      "text/plain": [
       "<IPython.core.display.Markdown object>"
      ]
     },
     "metadata": {},
     "output_type": "display_data"
    },
    {
     "data": {
      "text/html": [
       "<div>\n",
       "<style scoped>\n",
       "    .dataframe tbody tr th:only-of-type {\n",
       "        vertical-align: middle;\n",
       "    }\n",
       "\n",
       "    .dataframe tbody tr th {\n",
       "        vertical-align: top;\n",
       "    }\n",
       "\n",
       "    .dataframe thead th {\n",
       "        text-align: right;\n",
       "    }\n",
       "</style>\n",
       "<table border=\"1\" class=\"dataframe\">\n",
       "  <thead>\n",
       "    <tr style=\"text-align: right;\">\n",
       "      <th></th>\n",
       "      <th>Country</th>\n",
       "      <th>Pop</th>\n",
       "      <th>NightLights</th>\n",
       "      <th>TravelHours</th>\n",
       "      <th>GHI</th>\n",
       "      <th>WindVel</th>\n",
       "      <th>Hydropower</th>\n",
       "      <th>HydropowerDist</th>\n",
       "    </tr>\n",
       "  </thead>\n",
       "  <tbody>\n",
       "    <tr>\n",
       "      <th>22501</th>\n",
       "      <td>Benin</td>\n",
       "      <td>25.49086</td>\n",
       "      <td>0.0</td>\n",
       "      <td>1.20000</td>\n",
       "      <td>1810.0</td>\n",
       "      <td>3.98268</td>\n",
       "      <td>137.561</td>\n",
       "      <td>35.85067</td>\n",
       "    </tr>\n",
       "    <tr>\n",
       "      <th>40382</th>\n",
       "      <td>Benin</td>\n",
       "      <td>12.50476</td>\n",
       "      <td>0.0</td>\n",
       "      <td>2.16667</td>\n",
       "      <td>1971.0</td>\n",
       "      <td>3.95990</td>\n",
       "      <td>9758.860</td>\n",
       "      <td>53.95767</td>\n",
       "    </tr>\n",
       "    <tr>\n",
       "      <th>33938</th>\n",
       "      <td>Benin</td>\n",
       "      <td>6.25454</td>\n",
       "      <td>0.0</td>\n",
       "      <td>1.70000</td>\n",
       "      <td>1967.0</td>\n",
       "      <td>3.15151</td>\n",
       "      <td>287.406</td>\n",
       "      <td>18.15291</td>\n",
       "    </tr>\n",
       "    <tr>\n",
       "      <th>3002</th>\n",
       "      <td>Benin</td>\n",
       "      <td>33.97820</td>\n",
       "      <td>0.0</td>\n",
       "      <td>0.68421</td>\n",
       "      <td>1721.0</td>\n",
       "      <td>3.64298</td>\n",
       "      <td>290.099</td>\n",
       "      <td>18.61276</td>\n",
       "    </tr>\n",
       "    <tr>\n",
       "      <th>16145</th>\n",
       "      <td>Benin</td>\n",
       "      <td>14.58634</td>\n",
       "      <td>0.0</td>\n",
       "      <td>0.45000</td>\n",
       "      <td>1745.0</td>\n",
       "      <td>3.61270</td>\n",
       "      <td>375.877</td>\n",
       "      <td>8.12787</td>\n",
       "    </tr>\n",
       "    <tr>\n",
       "      <th>57442</th>\n",
       "      <td>Benin</td>\n",
       "      <td>45.08756</td>\n",
       "      <td>0.0</td>\n",
       "      <td>0.28333</td>\n",
       "      <td>2000.0</td>\n",
       "      <td>4.08204</td>\n",
       "      <td>113.160</td>\n",
       "      <td>55.52561</td>\n",
       "    </tr>\n",
       "    <tr>\n",
       "      <th>83515</th>\n",
       "      <td>Benin</td>\n",
       "      <td>61.71259</td>\n",
       "      <td>0.0</td>\n",
       "      <td>0.55000</td>\n",
       "      <td>2080.0</td>\n",
       "      <td>4.06226</td>\n",
       "      <td>224.466</td>\n",
       "      <td>25.12268</td>\n",
       "    </tr>\n",
       "  </tbody>\n",
       "</table>\n",
       "</div>"
      ],
      "text/plain": [
       "      Country       Pop  NightLights  TravelHours     GHI  WindVel  \\\n",
       "22501   Benin  25.49086          0.0      1.20000  1810.0  3.98268   \n",
       "40382   Benin  12.50476          0.0      2.16667  1971.0  3.95990   \n",
       "33938   Benin   6.25454          0.0      1.70000  1967.0  3.15151   \n",
       "3002    Benin  33.97820          0.0      0.68421  1721.0  3.64298   \n",
       "16145   Benin  14.58634          0.0      0.45000  1745.0  3.61270   \n",
       "57442   Benin  45.08756          0.0      0.28333  2000.0  4.08204   \n",
       "83515   Benin  61.71259          0.0      0.55000  2080.0  4.06226   \n",
       "\n",
       "       Hydropower  HydropowerDist  \n",
       "22501     137.561        35.85067  \n",
       "40382    9758.860        53.95767  \n",
       "33938     287.406        18.15291  \n",
       "3002      290.099        18.61276  \n",
       "16145     375.877         8.12787  \n",
       "57442     113.160        55.52561  \n",
       "83515     224.466        25.12268  "
      ]
     },
     "metadata": {},
     "output_type": "display_data"
    }
   ],
   "source": [
    "yearsofanalysis = [intermediate_year, end_year]\n",
    "\n",
    "onsseter.condition_df()\n",
    "onsseter.df[SET_GRID_PENALTY] = onsseter.grid_penalties(onsseter.df)\n",
    "onsseter.df[SET_WINDCF] = onsseter.calc_wind_cfs()\n",
    "pop_modelled, urban_modelled = onsseter.calibrate_current_pop_and_urban(pop_start_year, urban_ratio_start_year)\n",
    "onsseter.project_pop_and_urban(pop_start_year, end_year_pop, end_year_pop, urban_ratio_start_year, \n",
    "                                 urban_ratio_end_year, start_year, end_year, intermediate_year)\n",
    "\n",
    "eleclimits = {intermediate_year: intermediate_electrification_target, end_year: electrification_rate_target}\n",
    "time_steps = {intermediate_year: intermediate_year-start_year, end_year: end_year-intermediate_year}\n",
    "\n",
    "display(Markdown('#### Le fichier csv a été importé correctement. Voici un aperçu:'))\n",
    "display(onsseter.df[['Country','Pop','NightLights','TravelHours','GHI','WindVel','Hydropower','HydropowerDist']].sample(7))\n",
    "\n",
    "for year in yearsofanalysis:\n",
    "    mg_diesel_cost = {'diesel_price': diesel_price,\n",
    "                      'efficiency': 0.33,\n",
    "                      'diesel_truck_consumption': 33.7,\n",
    "                      'diesel_truck_volume': 15000}\n",
    "\n",
    "    sa_diesel_cost = {'diesel_price': diesel_price,\n",
    "                      'efficiency': 0.28,\n",
    "                      'diesel_truck_consumption': 14,\n",
    "                      'diesel_truck_volume': 300}\n",
    "\n",
    "    onsseter.diesel_cost_columns(sa_diesel_cost, mg_diesel_cost, year)\n"
   ]
  },
  {
   "cell_type": "markdown",
   "metadata": {},
   "source": [
    "#### Étalonnage des colonies actuellement électrifiées\n",
    "\n",
    "Le modèle calibre les établissements susceptibles d'être électrifiés au cours de l'année de démarrage, pour correspondre aux valeurs statistiques nationales définies ci-dessus. Un règlement est considéré comme électrifié s'il remplit toutes les conditions suivantes:\n",
    "- A plus de lumières nocturnes que le seuil défini (ce paramètre est défini sur 0 par défaut)\n",
    "- Est plus proche du réseau de distribution existant que la limite de distance\n",
    "- A plus de population que le seuil\n",
    "\n",
    "Définissez d'abord les seuils. Exécutez ensuite l'étalonnage et vérifiez si les résultats semblent corrects. Sinon, redéfinissez ces seuils et exécutez à nouveau."
   ]
  },
  {
   "cell_type": "code",
   "execution_count": 50,
   "metadata": {
    "scrolled": true
   },
   "outputs": [
    {
     "name": "stderr",
     "output_type": "stream",
     "text": [
      "2020-06-25 13:28:10,105\t\tCalibrate current electrification\n"
     ]
    },
    {
     "name": "stdout",
     "output_type": "stream",
     "text": [
      "We have identified the existence of transformers or MV lines as input data; therefore we proceed using those for the calibration\n",
      "The modelled electrification rate differ by 0.00. Urban elec. rate differ by -0.00 and Rural elec. rate differ by -0.00. \n",
      "If this is not acceptable please revise this part of the algorithm\n"
     ]
    }
   ],
   "source": [
    "min_night_lights = 0    ### 0 Indique l'absence de veilleuse, tandis que n'importe quel nombre ci-dessus fait référence à l'intensité des veilleuses\n",
    "min_pop = 100      ### Population de peuplement au-dessus de laquelle on peut supposer qu'elle pourrait être électrifiée\n",
    "   \n",
    "max_mv_line_distance = 3 ### Distance en km du réseau de distribution existant en dessous de laquelle nous pouvons supposer qu'un règlement pourrait être électrifié\n",
    "max_hv_line_distance = 25\n",
    "\n",
    "elec_modelled, urban_internal_elec_ratio, rural_internal_elec_ratio = onsseter.elec_current_and_future(elec_ratio_start_year, \n",
    "                                                                                                       urban_elec_ratio, \n",
    "                                                                                                       rural_elec_ratio, \n",
    "                                                                                                       start_year,\n",
    "                                                                                                       min_night_lights=min_night_lights, \n",
    "                                                                                                       min_pop=min_pop, \n",
    "                                                                                                       max_transformer_dist=2, \n",
    "                                                                                                       max_mv_dist=max_mv_line_distance, \n",
    "                                                                                                       max_hv_dist=max_hv_line_distance) "
   ]
  },
  {
   "cell_type": "markdown",
   "metadata": {},
   "source": [
    "La figure ci-dessous montre les résultats de l'étalonnage. Les colonies en **bleu** sont considérées comme (au moins en partie) électrifiées dès le début de l'analyse, tandis que les colonies en **jaune** ne sont pas encore électrifiées. Réexécuter l'étape d'étalonnage avec différentes valeurs initiales peut modifier la carte ci-dessous."
   ]
  },
  {
   "cell_type": "code",
   "execution_count": 51,
   "metadata": {
    "scrolled": false
   },
   "outputs": [
    {
     "data": {
      "text/plain": [
       "<Figure size 2160x2160 with 0 Axes>"
      ]
     },
     "execution_count": 51,
     "metadata": {},
     "output_type": "execute_result"
    },
    {
     "name": "stderr",
     "output_type": "stream",
     "text": [
      "2020-06-25 13:28:46,517\t\tupdate_title_pos\n",
      "2020-06-25 13:28:46,578\t\tupdate_title_pos\n",
      "2020-06-25 13:28:46,640\t\tupdate_title_pos\n",
      "2020-06-25 13:28:46,672\t\tupdate_title_pos\n",
      "2020-06-25 13:28:46,695\t\tupdate_title_pos\n"
     ]
    },
    {
     "data": {
      "image/png": "[encoded data removed]",
      "text/plain": [
       "<Figure size 648x648 with 1 Axes>"
      ]
     },
     "metadata": {
      "needs_background": "light"
     },
     "output_type": "display_data"
    },
    {
     "data": {
      "text/plain": [
       "<Figure size 2160x2160 with 0 Axes>"
      ]
     },
     "metadata": {},
     "output_type": "display_data"
    }
   ],
   "source": [
    "from matplotlib import pyplot as plt\n",
    "colors = ['#73B2FF','#EDD100','#EDA800','#1F6600','#98E600','#70A800','#1FA800']\n",
    "plt.figure(figsize=(9,9))\n",
    "plt.plot(onsseter.df.loc[onsseter.df[SET_ELEC_CURRENT]==0, SET_X_DEG], onsseter.df.loc[onsseter.df[SET_ELEC_CURRENT]==0, SET_Y_DEG], 'y,')\n",
    "plt.plot(onsseter.df.loc[onsseter.df[SET_ELEC_CURRENT]==1, SET_X_DEG], onsseter.df.loc[onsseter.df[SET_ELEC_CURRENT]==1, SET_Y_DEG], 'b,')\n",
    "if onsseter.df[SET_X_DEG].max() - onsseter.df[SET_X_DEG].min() > onsseter.df[SET_Y_DEG].max() - onsseter.df[SET_Y_DEG].min():\n",
    "    plt.xlim(onsseter.df[SET_X_DEG].min() - 1, onsseter.df[SET_X_DEG].max() + 1)\n",
    "    plt.ylim((onsseter.df[SET_Y_DEG].min()+onsseter.df[SET_Y_DEG].max())/2 - 0.5*abs(onsseter.df[SET_X_DEG].max() - onsseter.df[SET_X_DEG].min()) - 1, (onsseter.df[SET_Y_DEG].min()+onsseter.df[SET_Y_DEG].max())/2 + 0.5*abs(onsseter.df[SET_X_DEG].max() - onsseter.df[SET_X_DEG].min()) + 1)\n",
    "else:\n",
    "    plt.xlim((onsseter.df[SET_X_DEG].min()+onsseter.df[SET_X_DEG].max())/2 - 0.5*abs(onsseter.df[SET_Y_DEG].max() - onsseter.df[SET_Y_DEG].min()) - 1, (onsseter.df[SET_X_DEG].min()+onsseter.df[SET_X_DEG].max())/2 + 0.5*abs(onsseter.df[SET_Y_DEG].max() - onsseter.df[SET_Y_DEG].min()) + 1)\n",
    "    plt.ylim(onsseter.df[SET_Y_DEG].min() -1, onsseter.df[SET_Y_DEG].max() +1)\n",
    "plt.figure(figsize=(30,30))"
   ]
  },
  {
   "cell_type": "markdown",
   "metadata": {},
   "source": [
    "# 5. Définir la demande\n",
    "\n",
    "Ce morceau de code définit la demande d'électricité cible dans la région/le pays. La demande d'électricité résidentielle est définie comme kWh / ménage / an, tandis que toutes les autres demandes sont définies comme kWh/habitant/an. Notez qu'à l'heure actuelle, toutes les demandes d'utilisation productive sont définies sur 0 par défaut."
   ]
  },
  {
   "cell_type": "code",
   "execution_count": 52,
   "metadata": {
    "scrolled": false
   },
   "outputs": [
    {
     "name": "stderr",
     "output_type": "stream",
     "text": [
      "2020-06-25 13:29:06,182\t\tPopulate ResidentialDemandTier columns\n"
     ]
    }
   ],
   "source": [
    "# Définir les objectifs annuels d'électricité domestique à choisir\n",
    "tier_1 = 38.7  # 38.7 fait référence à kWh/ménage/an. \n",
    "tier_2 = 219\n",
    "tier_3 = 803\n",
    "tier_4 = 2117\n",
    "tier_5 = 2993\n",
    "\n",
    "onsseter.prepare_wtf_tier_columns(num_people_per_hh_rural, num_people_per_hh_urban, tier_1, tier_2, tier_3, tier_4, tier_5)"
   ]
  },
  {
   "cell_type": "code",
   "execution_count": 53,
   "metadata": {
    "scrolled": false
   },
   "outputs": [],
   "source": [
    "onsseter.df[SET_EDU_DEMAND] = 0           # Demande d'établissements d'enseignement (kWh / habitant / an)\n",
    "onsseter.df[SET_HEALTH_DEMAND] = 0        # Demande d'établissements de santé (kWh / habitant / an)\n",
    "onsseter.df[SET_COMMERCIAL_DEMAND] = 0    # Demande d'activités commerciales (kWh / habitant / an)\n",
    "onsseter.df[SET_AGRI_DEMAND] = 0          # Demande d'activités agricoles (kWh / habitant / an)\n",
    "productive_demand = 0 # 1 si la demande productive est définie et doit être incluse, sinon 0"
   ]
  },
  {
   "cell_type": "markdown",
   "metadata": {},
   "source": [
    "# 6. Lancer une exécution de scénario, qui calcule et compare les coûts technologiques pour chaque règlement dans le pays\n",
    "\n",
    "Sur la base du calcul précédent, ce morceau de code identifie le LCoE que chaque technologie hors réseau peut fournir, pour chaque règlement peuplé unique du pays sélectionné. La cellule prend ensuite tous les points actuellement connectés au réseau dans le pays et examine les points à une certaine distance d'eux, pour voir s'il est plus économique de les connecter au réseau, ou d'utiliser l'un des hors-réseau technologies calculées ci-dessus. Une fois que d'autres points sont connectés au réseau, le processus est répété, de sorte que de nouveaux points proches de ces points peuvent également être connectés. Cette opération est répétée jusqu'à ce qu'il n'y ait plus de nouveaux points à connecter au réseau."
   ]
  },
  {
   "cell_type": "code",
   "execution_count": 54,
   "metadata": {
    "scrolled": true
   },
   "outputs": [
    {
     "name": "stderr",
     "output_type": "stream",
     "text": [
      "2020-06-25 13:37:48,079\t\tDetermine current MV line length\n",
      "2020-06-25 13:37:48,188\t\tCalculate new connections\n",
      "2020-06-25 13:37:48,297\t\tSetting electrification demand as per target per year\n",
      "2020-06-25 13:37:48,665\t\tCalculate minigrid hydro LCOE\n",
      "2020-06-25 13:37:49,021\t\tCalculate minigrid PV LCOE\n",
      "2020-06-25 13:37:49,351\t\tCalculate minigrid wind LCOE\n",
      "2020-06-25 13:37:49,717\t\tCalculate standalone PV LCOE\n",
      "2020-06-25 13:37:50,041\t\tDetermine minimum technology (off-grid)\n",
      "2020-06-25 13:37:50,500\t\tDetermine minimum tech LCOE\n",
      "2020-06-25 13:37:50,726\t\tDefine the initial electrification status\n",
      "2020-06-25 13:37:51,817\t\tInitially 1869 electrified\n",
      "2020-06-25 13:37:52,463\t\tElectrification loop 1 with 1869 electrified\n",
      "2020-06-25 13:37:53,617\t\tCalculate investment cost\n",
      "2020-06-25 13:37:53,639\t\tDetermine electrification limits\n",
      "2020-06-25 13:37:53,998\t\tDetermine final electrification decision\n",
      "2020-06-25 13:37:54,064\t\tCalculate new capacity\n",
      "2020-06-25 13:37:54,182\t\tCalculate new connections\n"
     ]
    },
    {
     "name": "stdout",
     "output_type": "stream",
     "text": [
      "The electrification rate achieved in 2025 is 75.0 %\n"
     ]
    },
    {
     "name": "stderr",
     "output_type": "stream",
     "text": [
      "2020-06-25 13:37:54,330\t\tSetting electrification demand as per target per year\n",
      "2020-06-25 13:37:54,434\t\tCalculate minigrid hydro LCOE\n",
      "2020-06-25 13:37:54,735\t\tCalculate minigrid PV LCOE\n",
      "2020-06-25 13:37:55,100\t\tCalculate minigrid wind LCOE\n",
      "2020-06-25 13:37:55,449\t\tCalculate standalone PV LCOE\n",
      "2020-06-25 13:37:55,787\t\tDetermine minimum technology (off-grid)\n",
      "2020-06-25 13:37:56,277\t\tDetermine minimum tech LCOE\n",
      "2020-06-25 13:37:56,527\t\tDefine the initial electrification status\n",
      "2020-06-25 13:37:57,739\t\tInitially 21514 electrified\n",
      "2020-06-25 13:37:58,402\t\tElectrification loop 1 with 33271 electrified\n",
      "2020-06-25 13:37:59,624\t\tElectrification loop 2 with 12512 electrified\n",
      "2020-06-25 13:38:00,362\t\tElectrification loop 3 with 2910 electrified\n",
      "2020-06-25 13:38:01,023\t\tElectrification loop 4 with 634 electrified\n",
      "2020-06-25 13:38:01,622\t\tElectrification loop 5 with 143 electrified\n",
      "2020-06-25 13:38:02,275\t\tElectrification loop 6 with 46 electrified\n",
      "2020-06-25 13:38:02,937\t\tElectrification loop 7 with 10 electrified\n",
      "2020-06-25 13:38:03,621\t\tElectrification loop 8 with 1 electrified\n",
      "2020-06-25 13:38:04,511\t\tCalculate investment cost\n",
      "2020-06-25 13:38:04,533\t\tDetermine electrification limits\n",
      "2020-06-25 13:38:04,543\t\tDetermine final electrification decision\n",
      "2020-06-25 13:38:04,679\t\tCalculate new capacity\n"
     ]
    },
    {
     "name": "stdout",
     "output_type": "stream",
     "text": [
      "The electrification rate achieved in 2030 is 100.0 %\n"
     ]
    }
   ],
   "source": [
    "onsseter.current_mv_line_dist()\n",
    "\n",
    "for year in yearsofanalysis:\n",
    "    end_year_pop = 1\n",
    "    prioritization = 2\n",
    "        \n",
    "    eleclimit = eleclimits[year]\n",
    "    time_step = time_steps[year]\n",
    "    grid_cap_gen_limit = time_step * annual_grid_cap_gen_limit[year] * 1000\n",
    "    grid_connect_limit = time_step * annual_new_grid_connections_limit[year] * 1000\n",
    "    \n",
    "    onsseter.set_scenario_variables(year, num_people_per_hh_rural, num_people_per_hh_urban, time_step,\n",
    "                                            start_year, urban_target_tier, \n",
    "                                            rural_target_tier, end_year_pop, productive_demand)\n",
    "\n",
    "    sa_diesel_investment, sa_pv_investment, mg_diesel_investment, mg_pv_investment, mg_wind_investment, \\\n",
    "                                        mg_hydro_investment = onsseter.calculate_off_grid_lcoes(mg_hydro_calc, mg_wind_calc, mg_pv_calc,\n",
    "                                                                                                sa_pv_calc, mg_diesel_calc,\n",
    "                                                                                                sa_diesel_calc, year, end_year, time_step)\n",
    "    grid_investment, grid_cap_gen_limit, grid_connect_limit = \\\n",
    "                                        onsseter.pre_electrification(grid_generation_cost, year, time_step, end_year, grid_calc, grid_cap_gen_limit,\n",
    "                                                                     grid_connect_limit)\n",
    "\n",
    "    onsseter.df[SET_LCOE_GRID + \"{}\".format(year)], onsseter.df[SET_MIN_GRID_DIST + \"{}\".format(year)], \\\n",
    "                                    onsseter.df[SET_ELEC_ORDER + \"{}\".format(year)], onsseter.df[SET_MV_CONNECT_DIST], grid_investment = \\\n",
    "                                        onsseter.elec_extension(grid_calc,\n",
    "                                                                mv_line_max_length,\n",
    "                                                                year,\n",
    "                                                                start_year,\n",
    "                                                                end_year,\n",
    "                                                                time_step,\n",
    "                                                                grid_cap_gen_limit,\n",
    "                                                                grid_connect_limit,\n",
    "                                                                auto_intensification=auto_intensification,\n",
    "                                                                prioritization=prioritization,\n",
    "                                                                new_investment=grid_investment)\n",
    "\n",
    "    onsseter.results_columns(year, time_step, prioritization, auto_intensification)\n",
    "\n",
    "    onsseter.calculate_investments(sa_diesel_investment, sa_pv_investment, mg_diesel_investment,\n",
    "                                   mg_pv_investment, mg_wind_investment,\n",
    "                                   mg_hydro_investment, grid_investment, year)\n",
    "\n",
    "    onsseter.apply_limitations(eleclimit, year, time_step, prioritization, auto_intensification)\n",
    "\n",
    "    onsseter.calculate_new_capacity(mg_hydro_calc, mg_wind_calc, mg_pv_calc, sa_pv_calc, mg_diesel_calc,\n",
    "                                                                    sa_diesel_calc, grid_calc, year)    "
   ]
  },
  {
   "cell_type": "markdown",
   "metadata": {},
   "source": [
    "# 7. Résultats, résumés et visualisation\n",
    "Une fois tous les calculs et extensions de réseau terminés, ce bloc obtient les résultats finaux sur la technologie choisie pour chaque point, la quantité de capacité à installer et son coût. Ensuite, les résumés, les graphiques et les cartes sont générés."
   ]
  },
  {
   "cell_type": "code",
   "execution_count": 55,
   "metadata": {
    "scrolled": false
   },
   "outputs": [],
   "source": [
    "elements = []\n",
    "for year in yearsofanalysis:\n",
    "    elements.append(\"Population{}\".format(year))\n",
    "    elements.append(\"NewConnections{}\".format(year))\n",
    "    elements.append(\"Capacity{}\".format(year))\n",
    "    elements.append(\"Investment{}\".format(year))\n",
    "\n",
    "techs = [\"Grid\", \"SA_Diesel\", \"SA_PV\", \"MG_Diesel\", \"MG_PV\", \"MG_Wind\", \"MG_Hydro\"]\n",
    "\n",
    "sumtechs = []\n",
    "for year in yearsofanalysis:\n",
    "    sumtechs.extend([\"Population{}\".format(year) + t for t in techs])\n",
    "    sumtechs.extend([\"NewConnections{}\".format(year) + t for t in techs])\n",
    "    sumtechs.extend([\"Capacity{}\".format(year) + t for t in techs])\n",
    "    sumtechs.extend([\"Investment{}\".format(year) + t for t in techs])\n",
    "\n",
    "summary = pd.Series(index=sumtechs, name='country')\n",
    "\n",
    "for year in yearsofanalysis:\n",
    "    for t in techs:\n",
    "        summary.loc[\"Population{}\".format(year) + t] = onsseter.df.loc[(onsseter.df[SET_MIN_OVERALL + '{}'.format(year)] == t + '{}'.format(year)), SET_POP + '{}'.format(year)].sum()\n",
    "        summary.loc[\"NewConnections{}\".format(year) + t] = onsseter.df.loc[(onsseter.df[SET_MIN_OVERALL + '{}'.format(year)] == t + '{}'.format(year)) & (onsseter.df[SET_ELEC_FINAL_CODE + '{}'.format(year)] < 99), SET_NEW_CONNECTIONS + '{}'.format(year)].sum()\n",
    "        summary.loc[\"Capacity{}\".format(year) + t] = onsseter.df.loc[(onsseter.df[SET_MIN_OVERALL + '{}'.format(year)] == t + '{}'.format(year)) & (onsseter.df[SET_ELEC_FINAL_CODE + '{}'.format(year)] < 99), SET_NEW_CAPACITY + '{}'.format(year)].sum()/1000\n",
    "        summary.loc[\"Investment{}\".format(year) + t] = onsseter.df.loc[(onsseter.df[SET_MIN_OVERALL + '{}'.format(year)] == t + '{}'.format(year)) & (onsseter.df[SET_ELEC_FINAL_CODE + '{}'.format(year)] < 99), SET_INVESTMENT_COST + '{}'.format(year)].sum()\n",
    "        \n",
    "index = techs + ['Total']\n",
    "columns = []\n",
    "for year in yearsofanalysis:\n",
    "    columns.append(\"Population{}\".format(year))\n",
    "    columns.append(\"NewConnections{}\".format(year))\n",
    "    columns.append(\"Capacity{} (MW)\".format(year))\n",
    "    columns.append(\"Investment{} (million USD)\".format(year))\n",
    "                                                                                                                                           \n",
    "summary_table = pd.DataFrame(index=index, columns=columns)\n",
    "\n",
    "summary_table[columns[0]] = summary.iloc[0:7].astype(int).tolist() + [int(summary.iloc[0:7].sum())]\n",
    "summary_table[columns[1]] = summary.iloc[7:14].astype(int).tolist() + [int(summary.iloc[7:14].sum())]\n",
    "summary_table[columns[2]] = summary.iloc[14:21].astype(int).tolist() + [int(summary.iloc[14:21].sum())]\n",
    "summary_table[columns[3]] = [round(x/1e4)/1e2 for x in summary.iloc[21:28].astype(float).tolist()] + [round(summary.iloc[21:28].sum()/1e4)/1e2]\n",
    "summary_table[columns[4]] = summary.iloc[28:35].astype(int).tolist() + [int(summary.iloc[28:35].sum())]\n",
    "summary_table[columns[5]] = summary.iloc[35:42].astype(int).tolist() + [int(summary.iloc[35:42].sum())]\n",
    "summary_table[columns[6]] = summary.iloc[42:49].astype(int).tolist() + [int(summary.iloc[42:49].sum())]\n",
    "summary_table[columns[7]] = [round(x/1e4)/1e2 for x in summary.iloc[49:56].astype(float).tolist()] + [round(summary.iloc[49:56].sum()/1e4)/1e2]"
   ]
  },
  {
   "cell_type": "code",
   "execution_count": 56,
   "metadata": {
    "scrolled": false
   },
   "outputs": [
    {
     "data": {
      "text/markdown": [
       "### Summary \n",
       " Ce sont les résultats résumés pour lélectrification complète du pays sélectionné dici la dernière année"
      ],
      "text/plain": [
       "<IPython.core.display.Markdown object>"
      ]
     },
     "metadata": {},
     "output_type": "display_data"
    },
    {
     "data": {
      "text/html": [
       "<div>\n",
       "<style scoped>\n",
       "    .dataframe tbody tr th:only-of-type {\n",
       "        vertical-align: middle;\n",
       "    }\n",
       "\n",
       "    .dataframe tbody tr th {\n",
       "        vertical-align: top;\n",
       "    }\n",
       "\n",
       "    .dataframe thead th {\n",
       "        text-align: right;\n",
       "    }\n",
       "</style>\n",
       "<table border=\"1\" class=\"dataframe\">\n",
       "  <thead>\n",
       "    <tr style=\"text-align: right;\">\n",
       "      <th></th>\n",
       "      <th>Population2025</th>\n",
       "      <th>NewConnections2025</th>\n",
       "      <th>Capacity2025 (MW)</th>\n",
       "      <th>Investment2025 (million USD)</th>\n",
       "      <th>Population2030</th>\n",
       "      <th>NewConnections2030</th>\n",
       "      <th>Capacity2030 (MW)</th>\n",
       "      <th>Investment2030 (million USD)</th>\n",
       "    </tr>\n",
       "  </thead>\n",
       "  <tbody>\n",
       "    <tr>\n",
       "      <th>Grid</th>\n",
       "      <td>32175427</td>\n",
       "      <td>22435807</td>\n",
       "      <td>1254</td>\n",
       "      <td>4662.76</td>\n",
       "      <td>61659418</td>\n",
       "      <td>21459811</td>\n",
       "      <td>969</td>\n",
       "      <td>2743.93</td>\n",
       "    </tr>\n",
       "    <tr>\n",
       "      <th>SA_Diesel</th>\n",
       "      <td>0</td>\n",
       "      <td>0</td>\n",
       "      <td>0</td>\n",
       "      <td>0.00</td>\n",
       "      <td>0</td>\n",
       "      <td>0</td>\n",
       "      <td>0</td>\n",
       "      <td>0.00</td>\n",
       "    </tr>\n",
       "    <tr>\n",
       "      <th>SA_PV</th>\n",
       "      <td>3578223</td>\n",
       "      <td>742504</td>\n",
       "      <td>86</td>\n",
       "      <td>386.75</td>\n",
       "      <td>2035745</td>\n",
       "      <td>1293241</td>\n",
       "      <td>158</td>\n",
       "      <td>440.47</td>\n",
       "    </tr>\n",
       "    <tr>\n",
       "      <th>MG_Diesel</th>\n",
       "      <td>0</td>\n",
       "      <td>0</td>\n",
       "      <td>0</td>\n",
       "      <td>0.00</td>\n",
       "      <td>0</td>\n",
       "      <td>0</td>\n",
       "      <td>0</td>\n",
       "      <td>0.00</td>\n",
       "    </tr>\n",
       "    <tr>\n",
       "      <th>MG_PV</th>\n",
       "      <td>18627316</td>\n",
       "      <td>7889608</td>\n",
       "      <td>1111</td>\n",
       "      <td>3818.72</td>\n",
       "      <td>38234</td>\n",
       "      <td>38234</td>\n",
       "      <td>5</td>\n",
       "      <td>12.70</td>\n",
       "    </tr>\n",
       "    <tr>\n",
       "      <th>MG_Wind</th>\n",
       "      <td>0</td>\n",
       "      <td>0</td>\n",
       "      <td>0</td>\n",
       "      <td>0.00</td>\n",
       "      <td>0</td>\n",
       "      <td>0</td>\n",
       "      <td>0</td>\n",
       "      <td>0.00</td>\n",
       "    </tr>\n",
       "    <tr>\n",
       "      <th>MG_Hydro</th>\n",
       "      <td>220615</td>\n",
       "      <td>143614</td>\n",
       "      <td>8</td>\n",
       "      <td>35.04</td>\n",
       "      <td>18020</td>\n",
       "      <td>8977</td>\n",
       "      <td>0</td>\n",
       "      <td>2.39</td>\n",
       "    </tr>\n",
       "    <tr>\n",
       "      <th>Total</th>\n",
       "      <td>54601583</td>\n",
       "      <td>31211535</td>\n",
       "      <td>2460</td>\n",
       "      <td>8903.26</td>\n",
       "      <td>63751420</td>\n",
       "      <td>22800264</td>\n",
       "      <td>1134</td>\n",
       "      <td>3199.48</td>\n",
       "    </tr>\n",
       "  </tbody>\n",
       "</table>\n",
       "</div>"
      ],
      "text/plain": [
       "           Population2025  NewConnections2025  Capacity2025 (MW)  \\\n",
       "Grid             32175427            22435807               1254   \n",
       "SA_Diesel               0                   0                  0   \n",
       "SA_PV             3578223              742504                 86   \n",
       "MG_Diesel               0                   0                  0   \n",
       "MG_PV            18627316             7889608               1111   \n",
       "MG_Wind                 0                   0                  0   \n",
       "MG_Hydro           220615              143614                  8   \n",
       "Total            54601583            31211535               2460   \n",
       "\n",
       "           Investment2025 (million USD)  Population2030  NewConnections2030  \\\n",
       "Grid                            4662.76        61659418            21459811   \n",
       "SA_Diesel                          0.00               0                   0   \n",
       "SA_PV                            386.75         2035745             1293241   \n",
       "MG_Diesel                          0.00               0                   0   \n",
       "MG_PV                           3818.72           38234               38234   \n",
       "MG_Wind                            0.00               0                   0   \n",
       "MG_Hydro                          35.04           18020                8977   \n",
       "Total                           8903.26        63751420            22800264   \n",
       "\n",
       "           Capacity2030 (MW)  Investment2030 (million USD)  \n",
       "Grid                     969                       2743.93  \n",
       "SA_Diesel                  0                          0.00  \n",
       "SA_PV                    158                        440.47  \n",
       "MG_Diesel                  0                          0.00  \n",
       "MG_PV                      5                         12.70  \n",
       "MG_Wind                    0                          0.00  \n",
       "MG_Hydro                   0                          2.39  \n",
       "Total                   1134                       3199.48  "
      ]
     },
     "execution_count": 56,
     "metadata": {},
     "output_type": "execute_result"
    }
   ],
   "source": [
    "display(Markdown('### Summary \\n Ce sont les résultats résumés pour lélectrification complète du pays sélectionné dici la dernière année'))\n",
    "summary_table"
   ]
  },
  {
   "cell_type": "code",
   "execution_count": 57,
   "metadata": {
    "scrolled": false
   },
   "outputs": [
    {
     "name": "stderr",
     "output_type": "stream",
     "text": [
      "2020-06-25 13:38:05,818\t\tupdate_title_pos\n",
      "2020-06-25 13:38:05,890\t\tupdate_title_pos\n",
      "2020-06-25 13:38:05,929\t\tupdate_title_pos\n",
      "2020-06-25 13:38:05,976\t\tupdate_title_pos\n",
      "2020-06-25 13:38:06,025\t\tupdate_title_pos\n",
      "2020-06-25 13:38:06,054\t\tupdate_title_pos\n",
      "2020-06-25 13:38:06,096\t\tupdate_title_pos\n",
      "2020-06-25 13:38:06,135\t\tupdate_title_pos\n",
      "2020-06-25 13:38:06,261\t\tupdate_title_pos\n",
      "2020-06-25 13:38:06,284\t\tupdate_title_pos\n",
      "2020-06-25 13:38:06,310\t\tupdate_title_pos\n",
      "2020-06-25 13:38:06,334\t\tupdate_title_pos\n",
      "2020-06-25 13:38:06,400\t\tupdate_title_pos\n",
      "2020-06-25 13:38:06,420\t\tupdate_title_pos\n",
      "2020-06-25 13:38:06,445\t\tupdate_title_pos\n",
      "2020-06-25 13:38:06,469\t\tupdate_title_pos\n",
      "2020-06-25 13:38:06,511\t\tupdate_title_pos\n",
      "2020-06-25 13:38:06,551\t\tupdate_title_pos\n",
      "2020-06-25 13:38:06,581\t\tupdate_title_pos\n",
      "2020-06-25 13:38:06,611\t\tupdate_title_pos\n"
     ]
    },
    {
     "data": {
      "image/png": "[encoded data removed]",
      "text/plain": [
       "<Figure size 1080x1080 with 4 Axes>"
      ]
     },
     "metadata": {
      "needs_background": "light"
     },
     "output_type": "display_data"
    }
   ],
   "source": [
    "import matplotlib.pylab as plt\n",
    "import seaborn as sns\n",
    "\n",
    "colors = ['#73B2FF','#EDD100','#EDA800','#1F6600','#98E600','#70A800','#1FA800']\n",
    "techs_colors = dict(zip(techs, colors))\n",
    "\n",
    "summary_plot=summary_table.drop(labels='Total',axis=0)\n",
    "fig_size = [15, 15]\n",
    "font_size = 10\n",
    "plt.rcParams[\"figure.figsize\"] = fig_size\n",
    "f, axarr = plt.subplots(2, 2)\n",
    "fig_size = [15, 15]\n",
    "font_size = 10\n",
    "plt.rcParams[\"figure.figsize\"] = fig_size\n",
    "\n",
    "sns.barplot(x=summary_plot.index.tolist(), y=columns[4], data=summary_plot, ax=axarr[0, 0], palette=colors)\n",
    "axarr[0, 0].set_ylabel(columns[4], fontsize=2*font_size)\n",
    "axarr[0, 0].tick_params(labelsize=font_size)\n",
    "sns.barplot(x=summary_plot.index.tolist(), y=columns[5], data=summary_plot, ax=axarr[0, 1], palette=colors)\n",
    "axarr[0, 1].set_ylabel(columns[5], fontsize=2*font_size)\n",
    "axarr[0, 1].tick_params(labelsize=font_size)\n",
    "sns.barplot(x=summary_plot.index.tolist(), y=columns[6], data=summary_plot, ax=axarr[1, 0], palette=colors)\n",
    "axarr[1, 0].set_ylabel(columns[6], fontsize=2*font_size)\n",
    "axarr[1, 0].tick_params(labelsize=font_size)\n",
    "sns.barplot(x=summary_plot.index.tolist(), y=columns[7], data=summary_plot, ax=axarr[1, 1], palette=colors)\n",
    "axarr[1, 1].set_ylabel(columns[7], fontsize=2*font_size)\n",
    "axarr[1, 1].tick_params(labelsize=font_size)"
   ]
  },
  {
   "cell_type": "code",
   "execution_count": 58,
   "metadata": {
    "scrolled": false
   },
   "outputs": [
    {
     "data": {
      "text/plain": [
       "<Figure size 2160x2160 with 0 Axes>"
      ]
     },
     "execution_count": 58,
     "metadata": {},
     "output_type": "execute_result"
    },
    {
     "name": "stderr",
     "output_type": "stream",
     "text": [
      "2020-06-25 13:38:06,800\t\tupdate_title_pos\n",
      "2020-06-25 13:38:06,884\t\tupdate_title_pos\n",
      "2020-06-25 13:38:06,969\t\tupdate_title_pos\n",
      "2020-06-25 13:38:07,018\t\tupdate_title_pos\n",
      "2020-06-25 13:38:07,050\t\tupdate_title_pos\n"
     ]
    },
    {
     "data": {
      "image/png": "[encoded data removed]",
      "text/plain": [
       "<Figure size 648x648 with 1 Axes>"
      ]
     },
     "metadata": {
      "needs_background": "light"
     },
     "output_type": "display_data"
    },
    {
     "data": {
      "text/plain": [
       "<Figure size 2160x2160 with 0 Axes>"
      ]
     },
     "metadata": {},
     "output_type": "display_data"
    }
   ],
   "source": [
    "from matplotlib import pyplot as plt\n",
    "colors = ['#73B2FF','#EDD100','#EDA800','#1F6600','#98E600','#70A800','#1FA800']\n",
    "plt.figure(figsize=(9,9))\n",
    "plt.plot(onsseter.df.loc[onsseter.df['FinalElecCode{}'.format(end_year)]==3, SET_X_DEG], onsseter.df.loc[onsseter.df['FinalElecCode{}'.format(end_year)]==3, SET_Y_DEG], color='#EDA800', marker=',', linestyle='none')\n",
    "plt.plot(onsseter.df.loc[onsseter.df['FinalElecCode{}'.format(end_year)]==2, SET_X_DEG], onsseter.df.loc[onsseter.df['FinalElecCode{}'.format(end_year)]==2, SET_Y_DEG], color='#EDD100', marker=',', linestyle='none')\n",
    "plt.plot(onsseter.df.loc[onsseter.df['FinalElecCode{}'.format(end_year)]==4, SET_X_DEG], onsseter.df.loc[onsseter.df['FinalElecCode{}'.format(end_year)]==4, SET_Y_DEG], color='#1F6600', marker=',', linestyle='none')\n",
    "plt.plot(onsseter.df.loc[onsseter.df['FinalElecCode{}'.format(end_year)]==5, SET_X_DEG], onsseter.df.loc[onsseter.df['FinalElecCode{}'.format(end_year)]==5, SET_Y_DEG], color='#98E600', marker=',', linestyle='none')\n",
    "plt.plot(onsseter.df.loc[onsseter.df['FinalElecCode{}'.format(end_year)]==6, SET_X_DEG], onsseter.df.loc[onsseter.df['FinalElecCode{}'.format(end_year)]==6, SET_Y_DEG], color='#70A800', marker=',', linestyle='none')\n",
    "plt.plot(onsseter.df.loc[onsseter.df['FinalElecCode{}'.format(end_year)]==7, SET_X_DEG], onsseter.df.loc[onsseter.df['FinalElecCode{}'.format(end_year)]==7, SET_Y_DEG], color='#1FA800', marker=',', linestyle='none')\n",
    "plt.plot(onsseter.df.loc[onsseter.df['FinalElecCode{}'.format(end_year)]==1, SET_X_DEG], onsseter.df.loc[onsseter.df['FinalElecCode{}'.format(end_year)]==1, SET_Y_DEG], color='#73B2FF', marker=',', linestyle='none')\n",
    "if onsseter.df[SET_X_DEG].max() - onsseter.df[SET_X_DEG].min() > onsseter.df[SET_Y_DEG].max() - onsseter.df[SET_Y_DEG].min():\n",
    "    plt.xlim(onsseter.df[SET_X_DEG].min() - 1, onsseter.df[SET_X_DEG].max() + 1)\n",
    "    plt.ylim((onsseter.df[SET_Y_DEG].min()+onsseter.df[SET_Y_DEG].max())/2 - 0.5*abs(onsseter.df[SET_X_DEG].max() - onsseter.df[SET_X_DEG].min()) - 1, (onsseter.df[SET_Y_DEG].min()+onsseter.df[SET_Y_DEG].max())/2 + 0.5*abs(onsseter.df[SET_X_DEG].max() - onsseter.df[SET_X_DEG].min()) + 1)\n",
    "else:\n",
    "    plt.xlim((onsseter.df[SET_X_DEG].min()+onsseter.df[SET_X_DEG].max())/2 - 0.5*abs(onsseter.df[SET_Y_DEG].max() - onsseter.df[SET_Y_DEG].min()) - 1, (onsseter.df[SET_X_DEG].min()+onsseter.df[SET_X_DEG].max())/2 + 0.5*abs(onsseter.df[SET_Y_DEG].max() - onsseter.df[SET_Y_DEG].min()) + 1)\n",
    "    plt.ylim(onsseter.df[SET_Y_DEG].min() -1, onsseter.df[SET_Y_DEG].max() +1)\n",
    "plt.figure(figsize=(30,30))"
   ]
  },
  {
   "cell_type": "markdown",
   "metadata": {},
   "source": [
    "## 9. Exportation des résultats\n",
    "\n",
    "Ce code génère trois fichiers csv:\n",
    " - un contenant tous les résultats du scénario créé\n",
    " - un contenant le résumé du scénario créé\n",
    " - un contenant certains si les variables d'entrée clés du scénario\n",
    "\n",
    "Avant de continuer, veuillez écrire le nom du scénario dans la première cellule ci-dessous. passez ensuite à la cellule suivante et exécutez-la pour parcourir le répertoire dans lequel vous souhaitez enregistrer vos résultats. \n",
    "\n",
    "**Notez que si vous ne modifiez pas le nom du scénario, les fichiers de sortie précédents seront remplacés**"
   ]
  },
  {
   "cell_type": "code",
   "execution_count": null,
   "metadata": {
    "scrolled": false
   },
   "outputs": [],
   "source": [
    "scenario_name = \"scenario_name\""
   ]
  },
  {
   "cell_type": "code",
   "execution_count": null,
   "metadata": {
    "scrolled": false
   },
   "outputs": [],
   "source": [
    "list1 = [('Start_year',start_year,'','',''), \n",
    "         ('End_year',end_year,'','',''),\n",
    "         ('End year electrification rate target',electrification_rate_target,'','',''),\n",
    "         ('Intermediate target year', intermediate_year,'','',''),\n",
    "         ('Intermediate electrification rate target', intermediate_electrification_target,'','',''),\n",
    "         ('Urban target tier', urban_target_tier, '', '', ''),\n",
    "         ('Rural target tier', rural_target_tier, '', '', ''),\n",
    "         ('Prioritization', prioritization,'','','1 = baseline, 2 = intensification'),\n",
    "         ('Auto intensification distance', auto_intensification, '', '', 'Buffer distance (km) for automatic intensification if choosing prioritization 1'),\n",
    "         ('discount_rate',discount_rate,'','',''),\n",
    "         ('pop_start_year',pop_start_year,'','','the population in the base year (e.g. 2016)'),\n",
    "         ('pop_end_year',end_year_pop,'','','the projected population in the end year (e.g. 2030)'),\n",
    "         ('urban_ratio_start_year',urban_ratio_start_year,'','','the urban population population ratio in the base year (e.g. 2016)'),\n",
    "         ('urban_ratio_end_year',urban_ratio_end_year,'','','the urban population population ratio in the end year (e.g. 2030)'),\n",
    "         ('num_people_per_hh_urban',num_people_per_hh_urban,'','','the number of people per household expected in the end year (e.g. 2030)'),\n",
    "         ('num_people_per_hh_rural',num_people_per_hh_rural,'','','the number of people per household expected in the end year (e.g. 2030)'),\n",
    "         ('elec_ratio_start_year',elec_ratio_start_year,'','','the electrification rate in the base year (e.g. 2016)'),\n",
    "         ('urban_elec_ratio',urban_elec_ratio,'','','urban electrification rate in the base year (e.g. 2016)'),\n",
    "         ('rural_elec_ratio',rural_elec_ratio,'','','rural electrification rate in the base year (e.g. 2016)'),\n",
    "         ('grid_generation_cost',grid_generation_cost,'','','This is the grid cost electricity USD/kWh as expected in the end year of the analysis'),\n",
    "         ('grid_power_plants_capital_cost',grid_power_plants_capital_cost,'','','The cost in USD/kW to for capacity upgrades of the grid-connected power plants'),\n",
    "         ('grid_losses',grid_losses,'','','The fraction of electricity lost in transmission and distribution (percentage)'),\n",
    "         ('base_to_peak',base_to_peak,'','','The ratio of base grid demand to peak demand (percentage)'),\n",
    "         ('existing_grid_cost_ratio',existing_grid_cost_ratio,'','','The additional cost per round of electrification (percentage)'),\n",
    "         ('diesel_price',diesel_price,'','','This is the diesel price in USD/liter as expected in the end year of the analysis'),\n",
    "         ('sa_diesel_capital_cost',sa_diesel_capital_cost,'','','Stand-alone Diesel capital cost (USD/kW) as expected in the years of the analysis'),\n",
    "         ('mg_diesel_capital_cost',mg_diesel_capital_cost,'','','Mini-grid Diesel capital cost (USD/kW) as expected in the years of the analysis'),\n",
    "         ('mg_pv_capital_cost',mg_pv_capital_cost,'','','Mini-grid PV capital cost (USD/kW) as expected in the years of the analysis'),\n",
    "         ('mg_wind_capital_cost',mg_wind_capital_cost,'','','Mini-grid Wind capital cost (USD/kW) as expected in the years of the analysis'),\n",
    "         ('mg_hydro_capital_cost',mg_hydro_capital_cost,'','','Mini-grid Hydro capital cost (USD/kW) as expected in the years of the analysis'),\n",
    "         ('sa_pv_capital_cost_1',sa_pv_capital_cost_1,'','','Stand-alone PV capital cost (USD/kW) for household systems under 20 W'),\n",
    "         ('sa_pv_capital_cost_2',sa_pv_capital_cost_2,'','','Stand-alone PV capital cost (USD/kW) for household systems between 21-50 W'),\n",
    "         ('sa_pv_capital_cost_3',sa_pv_capital_cost_3,'','','Stand-alone PV capital cost (USD/kW) for household systems between 51-100 W'),\n",
    "         ('sa_pv_capital_cost_4',sa_pv_capital_cost_4,'','','Stand-alone PV capital cost (USD/kW) for household systems between 101-200 W'),\n",
    "         ('sa_pv_capital_cost_5',sa_pv_capital_cost_5,'','','Stand-alone PV capital cost (USD/kW) for household systems over 200 W'),\n",
    "         ('mv_line_cost',mv_line_cost,'','','Cost of MV lines in USD/km'),\n",
    "         ('lv_line_cost',lv_line_cost,'','','Cost of LV lines in USD/km'),\n",
    "         ('mv_line_capacity',mv_line_capacity,'','','Capacity of MV lines in kW/line'),\n",
    "         ('lv_line_capacity',lv_line_capacity,'','','Capacity of LV lines in kW/line'),\n",
    "         ('lv_line_max_length',lv_line_max_length,'','','Maximum length of LV lines (km)'),\n",
    "         ('hv_line_cost',hv_line_cost,'','','Cost of HV lines in USD/km'),\n",
    "         ('mv_line_max_length',mv_line_max_length,'','','Maximum length of MV lines (km)'),\n",
    "         ('hv_lv_transformer_cost',hv_lv_transformer_cost,'','','Cost of HV/MV transformer (USD/unit)'),\n",
    "         ('mv_increase_rate',mv_increase_rate,'','','percentage'),\n",
    "         ('max_grid_extension_dist',max_mv_line_dist,'','','Maximum distance that the grid may be extended by means of MV lines'),\n",
    "         ('annual_new_grid_connections_limit', annual_new_grid_connections_limit,'','','This is the maximum amount of new households that can be connected to the grid in one year (thousands)'),\n",
    "         ('grid_capacity_limit',annual_grid_cap_gen_limit,'','','This is the maximum generation capacity that can be added to the grid in one year (MW)'),\n",
    "        ]\n",
    "labels = ['Variable','Value', 'Source', 'Comments', 'Description']\n",
    "df_variables = pd.DataFrame.from_records(list1, columns=labels)"
   ]
  },
  {
   "cell_type": "code",
   "execution_count": null,
   "metadata": {
    "scrolled": false
   },
   "outputs": [],
   "source": [
    "messagebox.showinfo('OnSSET', 'Accédez au dossier dans lequel vous souhaitez enregistrer les sorties')\n",
    "\n",
    "output_dir = filedialog.askdirectory()\n",
    "output_dir_variables = os.path.join(output_dir, '{}_Variables.csv'.format(scenario_name))\n",
    "output_dir_results = os.path.join(output_dir, '{}_Results.csv'.format(scenario_name))\n",
    "output_dir_summaries = os.path.join(output_dir, '{}_Summaries.csv'.format(scenario_name))"
   ]
  },
  {
   "cell_type": "code",
   "execution_count": null,
   "metadata": {
    "scrolled": false
   },
   "outputs": [],
   "source": [
    "# Returning the result as a csv file\n",
    "onsseter.df.to_csv(output_dir_results, index=False)\n",
    "\n",
    "# Returning the summary as a csv file\n",
    "summary_table.to_csv(output_dir_summaries, index=True)\n",
    "\n",
    "# Returning the input variables as a csv file\n",
    "df_variables.to_csv(output_dir_variables, index=False)"
   ]
  },
  {
   "cell_type": "code",
   "execution_count": null,
   "metadata": {
    "scrolled": false
   },
   "outputs": [],
   "source": []
  }
 ],
 "metadata": {
  "anaconda-cloud": {},
  "celltoolbar": "Raw Cell Format",
  "kernelspec": {
   "display_name": "Python 3",
   "language": "python",
   "name": "python3"
  },
  "language_info": {
   "codemirror_mode": {
    "name": "ipython",
    "version": 3
   },
   "file_extension": ".py",
   "mimetype": "text/x-python",
   "name": "python",
   "nbconvert_exporter": "python",
   "pygments_lexer": "ipython3",
   "version": "3.7.1"
  }
 },
 "nbformat": 4,
 "nbformat_minor": 2
}
