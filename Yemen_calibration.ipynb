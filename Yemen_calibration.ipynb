{
 "cells": [
  {
   "cell_type": "code",
   "execution_count": 50,
   "metadata": {},
   "outputs": [
    {
     "data": {
      "text/plain": [
       "''"
      ]
     },
     "execution_count": 50,
     "metadata": {},
     "output_type": "execute_result"
    }
   ],
   "source": [
    "import pandas as pd\n",
    "import os\n",
    "from IPython.display import display, Markdown, HTML\n",
    "%matplotlib inline\n",
    "import tkinter as tk\n",
    "from tkinter import filedialog, messagebox\n",
    "from openpyxl import load_workbook\n",
    "root = tk.Tk()\n",
    "root.withdraw()\n",
    "root.attributes(\"-topmost\", True)"
   ]
  },
  {
   "cell_type": "code",
   "execution_count": 51,
   "metadata": {},
   "outputs": [],
   "source": [
    "messagebox.showinfo('OnSSET', 'Open the input file with calibrated GIS data')\n",
    "input_file = filedialog.askopenfilename()\n",
    "df = pd.read_csv(input_file)"
   ]
  },
  {
   "cell_type": "markdown",
   "metadata": {},
   "source": [
    "First, reset all values from original calibration. Restart from here if calibration values below are too low/high."
   ]
  },
  {
   "cell_type": "code",
   "execution_count": 52,
   "metadata": {},
   "outputs": [],
   "source": [
    "df['ElecPopCalib'] = df['PopStartYear']\n",
    "df['ElecStart'] = 0\n",
    "df['Elec_Initial_Status_Grid2018'] = 0\n",
    "df['Elec_Init_Status_Offgrid2018'] = 0\n",
    "df['Actual_Elec_Status_2018'] = 0\n",
    "df['FinalElecCode2018'] = 99"
   ]
  },
  {
   "cell_type": "markdown",
   "metadata": {},
   "source": [
    "First identify grid-connected settlements"
   ]
  },
  {
   "cell_type": "code",
   "execution_count": 40,
   "metadata": {},
   "outputs": [],
   "source": [
    "min_ntl_grid = 0.3\n",
    "max_grid_dist = 5\n",
    "min_grid_pop = 10"
   ]
  },
  {
   "cell_type": "code",
   "execution_count": 41,
   "metadata": {},
   "outputs": [],
   "source": [
    "df.loc[(df['PopStartYear'] > min_grid_pop) & \n",
    "       (df['NightLights'] > min_ntl_grid) & \n",
    "       (df['CurrentMVLineDist'] < max_grid_dist), 'ElecStart'] = 1\n",
    "\n",
    "df.loc[(df['PopStartYear'] > min_grid_pop) & \n",
    "       (df['NightLights'] > min_ntl_grid) & \n",
    "       (df['CurrentHVLineDist'] < max_grid_dist), 'ElecStart'] = 1"
   ]
  },
  {
   "cell_type": "markdown",
   "metadata": {},
   "source": [
    "Next, identify off-grid settlements"
   ]
  },
  {
   "cell_type": "code",
   "execution_count": 42,
   "metadata": {},
   "outputs": [],
   "source": [
    "min_off_grid_pop = 10\n",
    "min_off_grid_ntl = 0.30"
   ]
  },
  {
   "cell_type": "code",
   "execution_count": 43,
   "metadata": {},
   "outputs": [],
   "source": [
    "df.loc[(df['PopStartYear'] > min_off_grid_pop) & \n",
    "       (df['NightLights'] > min_off_grid_ntl) & \n",
    "       (df['CurrentMVLineDist'] > max_grid_dist) & \n",
    "       (df['CurrentHVLineDist'] > max_grid_dist) & \n",
    "       (df['HubDist'] < 3000), 'ElecStart'] = 1"
   ]
  },
  {
   "cell_type": "code",
   "execution_count": 53,
   "metadata": {},
   "outputs": [],
   "source": [
    "df.loc[df['ElecStart'] == 0, 'ElecPopCalib'] = 0"
   ]
  },
  {
   "cell_type": "code",
   "execution_count": 54,
   "metadata": {},
   "outputs": [
    {
     "name": "stdout",
     "output_type": "stream",
     "text": [
      "Elec rate: 0.0\n"
     ]
    }
   ],
   "source": [
    "print('Elec rate: ' + str(df['ElecPopCalib'].sum()/df['PopStartYear'].sum()*100))"
   ]
  },
  {
   "cell_type": "markdown",
   "metadata": {},
   "source": [
    "When the calibrated electrification rate is deemed okay, update the neccessary values"
   ]
  },
  {
   "cell_type": "code",
   "execution_count": 46,
   "metadata": {},
   "outputs": [],
   "source": [
    "df.loc[(df['ElecStart'] == 1) & (df['CurrentMVLineDist'] < max_grid_dist), 'Elec_Initial_Status_Grid2018'] = 1\n",
    "df.loc[(df['ElecStart'] == 1) & (df['CurrentHVLineDist'] < max_grid_dist), 'Elec_Initial_Status_Grid2018'] = 1\n",
    "\n",
    "df.loc[(df['ElecStart'] == 1) & (df['CurrentMVLineDist'] < max_grid_dist), 'Actual_Elec_Status_2018'] = 1\n",
    "df.loc[(df['ElecStart'] == 1) & (df['CurrentHVLineDist'] < max_grid_dist), 'Actual_Elec_Status_2018'] = 1\n",
    "\n",
    "df.loc[(df['ElecStart'] == 1) & (df['CurrentMVLineDist'] < max_grid_dist), 'FinalElecCode2018'] = 1\n",
    "df.loc[(df['ElecStart'] == 1) & (df['CurrentHVLineDist'] < max_grid_dist), 'FinalElecCode2018'] = 1"
   ]
  },
  {
   "cell_type": "code",
   "execution_count": 47,
   "metadata": {},
   "outputs": [],
   "source": [
    "df.loc[(df['ElecStart'] == 1) & (df['CurrentMVLineDist'] > max_grid_dist) & (df['CurrentHVLineDist'] > max_grid_dist),\n",
    "       'Elec_Init_Status_Offgrid2018'] = 1\n",
    "\n",
    "df.loc[(df['ElecStart'] == 1) & (df['CurrentMVLineDist'] > max_grid_dist) & (df['CurrentHVLineDist'] > max_grid_dist), \n",
    "       'Actual_Elec_Status_2018'] = 1\n",
    "\n",
    "df.loc[(df['ElecStart'] == 1) & (df['CurrentMVLineDist'] > max_grid_dist) & (df['CurrentHVLineDist'] > max_grid_dist), \n",
    "       'FinalElecCode2018'] = 5"
   ]
  },
  {
   "cell_type": "code",
   "execution_count": 55,
   "metadata": {},
   "outputs": [],
   "source": [
    "scenario_name = 'Yemen_Calibrated_Clean_Slate'"
   ]
  },
  {
   "cell_type": "code",
   "execution_count": 56,
   "metadata": {},
   "outputs": [],
   "source": [
    "messagebox.showinfo('OnSSET', 'Browse to the folder where you want to save the outputs')\n",
    "df.sort_index(inplace=True)\n",
    "output_dir = filedialog.askdirectory()\n",
    "output_dir_results = os.path.join(output_dir, '{}.csv'.format(scenario_name))\n",
    "df.to_csv(output_dir_results, index=False)"
   ]
  },
  {
   "cell_type": "code",
   "execution_count": null,
   "metadata": {},
   "outputs": [],
   "source": []
  },
  {
   "cell_type": "code",
   "execution_count": null,
   "metadata": {},
   "outputs": [],
   "source": []
  }
 ],
 "metadata": {
  "kernelspec": {
   "display_name": "Python 3",
   "language": "python",
   "name": "python3"
  },
  "language_info": {
   "codemirror_mode": {
    "name": "ipython",
    "version": 3
   },
   "file_extension": ".py",
   "mimetype": "text/x-python",
   "name": "python",
   "nbconvert_exporter": "python",
   "pygments_lexer": "ipython3",
   "version": "3.7.1"
  }
 },
 "nbformat": 4,
 "nbformat_minor": 2
}
