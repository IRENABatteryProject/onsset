{
 "cells": [
  {
   "cell_type": "markdown",
   "metadata": {},
   "source": [
    "\n",
    "## Crop preparation for   model input file prep\n",
    "\n",
    "The crop files can be obtained from: You, L., U. Wood-Sichra, S. Fritz, Z. Guo, L. See, and J. Koo. 2014. Spatial Production Allocation Model (SPAM) 2010 V1r1. [October 8, 2019]. Available from http://mapspam.info and on IFPRI’s Dataverse Site.\n",
    "\n",
    "\n",
    "This code prepares the files based on the downloaded data. It extracts all necessary attributes for the specific location. It also applies some name fixes as needed for the model to run smoothly.The output dataframe is exported as csv and id ready to be used in the irrigation model"
   ]
  },
  {
   "cell_type": "markdown",
   "metadata": {},
   "source": [
    "## Select the target coordinate system\n",
    "\n",
    "NOTE:When selecting your coordinate system make sure that you select a system with the unit of meters, this is indicated for all systems on [epsg.io](https://epsg.io/)"
   ]
  },
  {
   "cell_type": "code",
   "execution_count": null,
   "metadata": {},
   "outputs": [],
   "source": [
    "crs = 'EPSG:3395'"
   ]
  },
  {
   "cell_type": "markdown",
   "metadata": {},
   "source": [
    "## Function required to clip the raster to specific administrative boundaries"
   ]
  },
  {
   "cell_type": "code",
   "execution_count": null,
   "metadata": {},
   "outputs": [],
   "source": [
    "def ClipRasterByMask(raster, mask, crs, output):\n",
    "    with fiona.open(mask, \"r\") as shapefile:\n",
    "        shapes = [feature[\"geometry\"] for feature in shapefile]\n",
    "    with rasterio.open(raster) as src:\n",
    "        out_image, out_transform = rasterio.mask.mask(src, shapes, crop=True)\n",
    "        out_image[out_image<0] = np.nan\n",
    "        mask = (out_image!=0)\n",
    "        out_image = fillnodata(out_image, mask)\n",
    "        out_meta = src.meta\n",
    "    out_meta.update({\"driver\": \"GTiff\",\n",
    "                     \"height\": out_image.shape[1],\n",
    "                     \"width\": out_image.shape[2],\n",
    "                     \"transform\": out_transform,\n",
    "                     \"crs\": crs})\n",
    "    \n",
    "    out_meta.update(compress = 'lzw')\n",
    "    \n",
    "    with rasterio.open(output, \"w\", **out_meta) as dest:\n",
    "        dest.write(out_image)\n",
    "    out = rasterio.open(output)\n",
    "        \n",
    "    return out"
   ]
  },
  {
   "cell_type": "code",
   "execution_count": null,
   "metadata": {},
   "outputs": [],
   "source": [
    "elecPop = ClipRasterByMask(poprasterio.name, workspace + r\"/NTLArea.shp\", \"EPSG:4326\", workspace + r\"/rasterBase.tif\")"
   ]
  },
  {
   "cell_type": "markdown",
   "metadata": {},
   "source": [
    "## Select the output folder and the administrative boundaries"
   ]
  },
  {
   "cell_type": "code",
   "execution_count": null,
   "metadata": {},
   "outputs": [],
   "source": [
    "messagebox.showinfo('Crop extraction', 'Output folder')\n",
    "workspace = filedialog.askdirectory()\n",
    "\n",
    "messagebox.showinfo('Crop extraction', 'Select the admin map')\n",
    "filename_admin = (filedialog.askopenfilename(filetypes = ((\"shapefile\",\"*.shp\"),(\"all files\",\"*.*\"))))\n",
    "admin=gpd.read_file(filename_admin)"
   ]
  },
  {
   "cell_type": "markdown",
   "metadata": {},
   "source": [
    "## Select the crop data folder for processing the files"
   ]
  },
  {
   "cell_type": "code",
   "execution_count": null,
   "metadata": {},
   "outputs": [],
   "source": [
    "raster_path = r\"N:\\Agrodem\\Irrigation_model\\Input_data\\Supporting_Layers\"\n",
    "raster_files =[]\n",
    "csvoutpath = r\"N:\\Agrodem\\Irrigation_model\\Output_data\\agrodem_input\\1km_2030_Cassava\\SG\"\n",
    "\n",
    "print (\"Reading independent variables...\")\n",
    "\n",
    "for i in os.listdir(raster_path):\n",
    "    if i.endswith('.tif'):\n",
    "        raster_files.append(i) \n",
    "        "
   ]
  },
  {
   "cell_type": "code",
   "execution_count": null,
   "metadata": {},
   "outputs": [],
   "source": []
  },
  {
   "cell_type": "markdown",
   "metadata": {},
   "source": [
    "# Convert country inputs(csv) to shapefile "
   ]
  },
  {
   "cell_type": "code",
   "execution_count": null,
   "metadata": {},
   "outputs": [],
   "source": [
    "input = pd.read_csv(input_file)\n",
    "# Add geometry and convert to spatial dataframe in source CRS\n",
    "crop_df['geometry'] = list(zip(crop_df['lon'], crop_df['lat']))\n",
    "crop_df['geometry'] = crop_df['geometry'].apply(Point)\n",
    "crop_df = gpd.GeoDataFrame(crop_df, geometry='geometry', crs={'init': 'epsg:4326'})\n",
    "\n",
    "crop_gdf = crop_df.to_crs({'init': 'epsg:32737'})"
   ]
  },
  {
   "cell_type": "code",
   "execution_count": null,
   "metadata": {},
   "outputs": [],
   "source": [
    ":\n",
    "messagebox.showinfo('OnSSET', 'Select the clusters')\n",
    "clusters = gpd.read_file(filedialog.askopenfilename(filetypes = ((\"shapefile\",\"*.shp\"),(\"all files\",\"*.*\"))))"
   ]
  },
  {
   "cell_type": "markdown",
   "metadata": {},
   "source": [
    "# Processing rasters"
   ]
  },
  {
   "cell_type": "code",
   "execution_count": null,
   "metadata": {},
   "outputs": [],
   "source": [
    "\n",
    "def processing_raster(name, method, clusters):\n",
    "    messagebox.showinfo('OnSSET', 'Select the ' + name + ' map')\n",
    "    raster=rasterio.open(filedialog.askopenfilename(filetypes = ((\"rasters\",\"*.tif\"),(\"all files\",\"*.*\"))))\n",
    "    \n",
    "    clusters = zonal_stats(\n",
    "        clusters,\n",
    "        raster.name,\n",
    "        stats=[method],\n",
    "        prefix=name, geojson_out=True, all_touched=True)\n",
    "    \n",
    "    print(datetime.datetime.now())\n",
    "    return clusters"
   ]
  }
 ],
 "metadata": {
  "kernelspec": {
   "display_name": "Python 3",
   "language": "python",
   "name": "python3"
  },
  "language_info": {
   "codemirror_mode": {
    "name": "ipython",
    "version": 3
   },
   "file_extension": ".py",
   "mimetype": "text/x-python",
   "name": "python",
   "nbconvert_exporter": "python",
   "pygments_lexer": "ipython3",
   "version": "3.7.3"
  }
 },
 "nbformat": 4,
 "nbformat_minor": 2
}
